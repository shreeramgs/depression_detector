{
 "cells": [
  {
   "cell_type": "code",
   "execution_count": 1,
   "id": "0f93f5b5-4610-4949-8312-edec1cb9e578",
   "metadata": {},
   "outputs": [
    {
     "name": "stdout",
     "output_type": "stream",
     "text": [
      "Requirement already satisfied: snscrape in /Users/akaashvenu/opt/anaconda3/lib/python3.9/site-packages (0.4.3.20220106)\r\n",
      "Requirement already satisfied: lxml in /Users/akaashvenu/opt/anaconda3/lib/python3.9/site-packages (from snscrape) (4.8.0)\r\n",
      "Requirement already satisfied: filelock in /Users/akaashvenu/opt/anaconda3/lib/python3.9/site-packages (from snscrape) (3.6.0)\r\n",
      "Requirement already satisfied: beautifulsoup4 in /Users/akaashvenu/opt/anaconda3/lib/python3.9/site-packages (from snscrape) (4.11.1)\r\n",
      "Requirement already satisfied: requests[socks] in /Users/akaashvenu/opt/anaconda3/lib/python3.9/site-packages (from snscrape) (2.28.0)\r\n",
      "Requirement already satisfied: soupsieve>1.2 in /Users/akaashvenu/opt/anaconda3/lib/python3.9/site-packages (from beautifulsoup4->snscrape) (2.3.1)\r\n",
      "Requirement already satisfied: certifi>=2017.4.17 in /Users/akaashvenu/opt/anaconda3/lib/python3.9/site-packages (from requests[socks]->snscrape) (2022.6.15)\r\n",
      "Requirement already satisfied: idna<4,>=2.5 in /Users/akaashvenu/opt/anaconda3/lib/python3.9/site-packages (from requests[socks]->snscrape) (3.3)\r\n",
      "Requirement already satisfied: charset-normalizer~=2.0.0 in /Users/akaashvenu/opt/anaconda3/lib/python3.9/site-packages (from requests[socks]->snscrape) (2.0.4)\r\n",
      "Requirement already satisfied: urllib3<1.27,>=1.21.1 in /Users/akaashvenu/opt/anaconda3/lib/python3.9/site-packages (from requests[socks]->snscrape) (1.26.9)\r\n",
      "Requirement already satisfied: PySocks!=1.5.7,>=1.5.6 in /Users/akaashvenu/opt/anaconda3/lib/python3.9/site-packages (from requests[socks]->snscrape) (1.7.1)\r\n"
     ]
    }
   ],
   "source": [
    "#Download and install package 'snscrape'\n",
    "!pip install snscrape"
   ]
  },
  {
   "cell_type": "code",
   "execution_count": 2,
   "id": "274b6c89-2b80-425f-a0c9-5f46c3b1995d",
   "metadata": {},
   "outputs": [
    {
     "name": "stdout",
     "output_type": "stream",
     "text": [
      "Search for your query : Suicide\n",
      "Number of tweets to be scraped : 3500\n"
     ]
    },
    {
     "name": "stderr",
     "output_type": "stream",
     "text": [
      "/var/folders/7v/n91nt_cx6ps73bx6bp1d_k_m0000gn/T/ipykernel_41363/1579833380.py:14: FutureWarning: username is deprecated, use user.username instead\n",
      "  tweets.append([tweet.date, tweet.username, tweet.content])\n"
     ]
    }
   ],
   "source": [
    "import snscrape.modules.twitter as sntwitter\n",
    "import pandas as pd\n",
    "\n",
    "# query = \"depression\"\n",
    "search = input('Search for your query : ')\n",
    "tweets = []\n",
    "limit = int(input('Number of tweets to be scraped : '))\n",
    "\n",
    "\n",
    "for tweet in sntwitter.TwitterSearchScraper(search).get_items():\n",
    "    if len(tweets) == limit:\n",
    "        break\n",
    "    else:\n",
    "        tweets.append([tweet.date, tweet.username, tweet.content])\n",
    "        \n",
    "\n"
   ]
  },
  {
   "cell_type": "code",
   "execution_count": 3,
   "id": "bbfaaa5e-6225-4d45-a877-d9cf7ac42cfa",
   "metadata": {},
   "outputs": [
    {
     "name": "stdout",
     "output_type": "stream",
     "text": [
      "                          Date             User  \\\n",
      "0    2022-07-07 04:06:59+00:00    MalaimurasuTv   \n",
      "1    2022-07-07 04:06:48+00:00        rovrs1993   \n",
      "2    2022-07-07 04:06:37+00:00       Hola_Jonah   \n",
      "3    2022-07-07 04:06:36+00:00     Chandlahpete   \n",
      "4    2022-07-07 04:06:33+00:00  Yogendr89778547   \n",
      "...                        ...              ...   \n",
      "3495 2022-07-06 22:50:34+00:00      RyanDaly597   \n",
      "3496 2022-07-06 22:50:26+00:00     5overthemoon   \n",
      "3497 2022-07-06 22:50:22+00:00    donnienotokay   \n",
      "3498 2022-07-06 22:50:22+00:00    NakedDemocrat   \n",
      "3499 2022-07-06 22:50:17+00:00      CatferretVD   \n",
      "\n",
      "                                                  Tweet  \n",
      "0     12ஆம் வகுப்பு தேர்வில் தோல்வியால் மாணவன் தற்கொ...  \n",
      "1     @Lesbian_cxnt Wait so it’s a suicide thing? (2...  \n",
      "2     @DiscussingFilm Hoping this is another The Sui...  \n",
      "3     31 shooting incidents in Ohio within the last ...  \n",
      "4     #KanganaRanaut claims #JavedAkhtar threatened ...  \n",
      "...                                                 ...  \n",
      "3495  Dude I wanna buy suicide boy tickets so bad bu...  \n",
      "3496  @KateOsborneMP @graylcoleman171 as has been fo...  \n",
      "3497  @wikihow_suicide both of them use sign. blind ...  \n",
      "3498  https://t.co/HFc8eUaPRj\\n\\nExactly right!  Dem...  \n",
      "3499  @James_Hawke1 Maybe instead of putting Maxwell...  \n",
      "\n",
      "[3500 rows x 3 columns]\n"
     ]
    }
   ],
   "source": [
    "#Assigning the scraped values in a df using pandas\n",
    "df = pd.DataFrame(tweets, columns=['Date', 'User', 'Tweet'])\n",
    "print(df)"
   ]
  },
  {
   "cell_type": "code",
   "execution_count": 4,
   "id": "b744519d-bae3-44e7-bb90-0a8e60b2c81d",
   "metadata": {},
   "outputs": [
    {
     "data": {
      "text/html": [
       "<div>\n",
       "<style scoped>\n",
       "    .dataframe tbody tr th:only-of-type {\n",
       "        vertical-align: middle;\n",
       "    }\n",
       "\n",
       "    .dataframe tbody tr th {\n",
       "        vertical-align: top;\n",
       "    }\n",
       "\n",
       "    .dataframe thead th {\n",
       "        text-align: right;\n",
       "    }\n",
       "</style>\n",
       "<table border=\"1\" class=\"dataframe\">\n",
       "  <thead>\n",
       "    <tr style=\"text-align: right;\">\n",
       "      <th></th>\n",
       "      <th>Date</th>\n",
       "      <th>User</th>\n",
       "      <th>Tweet</th>\n",
       "    </tr>\n",
       "  </thead>\n",
       "  <tbody>\n",
       "    <tr>\n",
       "      <th>0</th>\n",
       "      <td>2022-07-07 04:06:59+00:00</td>\n",
       "      <td>MalaimurasuTv</td>\n",
       "      <td>12ஆம் வகுப்பு தேர்வில் தோல்வியால் மாணவன் தற்கொ...</td>\n",
       "    </tr>\n",
       "    <tr>\n",
       "      <th>1</th>\n",
       "      <td>2022-07-07 04:06:48+00:00</td>\n",
       "      <td>rovrs1993</td>\n",
       "      <td>@Lesbian_cxnt Wait so it’s a suicide thing? (2...</td>\n",
       "    </tr>\n",
       "    <tr>\n",
       "      <th>2</th>\n",
       "      <td>2022-07-07 04:06:37+00:00</td>\n",
       "      <td>Hola_Jonah</td>\n",
       "      <td>@DiscussingFilm Hoping this is another The Sui...</td>\n",
       "    </tr>\n",
       "    <tr>\n",
       "      <th>3</th>\n",
       "      <td>2022-07-07 04:06:36+00:00</td>\n",
       "      <td>Chandlahpete</td>\n",
       "      <td>31 shooting incidents in Ohio within the last ...</td>\n",
       "    </tr>\n",
       "    <tr>\n",
       "      <th>4</th>\n",
       "      <td>2022-07-07 04:06:33+00:00</td>\n",
       "      <td>Yogendr89778547</td>\n",
       "      <td>#KanganaRanaut claims #JavedAkhtar threatened ...</td>\n",
       "    </tr>\n",
       "  </tbody>\n",
       "</table>\n",
       "</div>"
      ],
      "text/plain": [
       "                       Date             User  \\\n",
       "0 2022-07-07 04:06:59+00:00    MalaimurasuTv   \n",
       "1 2022-07-07 04:06:48+00:00        rovrs1993   \n",
       "2 2022-07-07 04:06:37+00:00       Hola_Jonah   \n",
       "3 2022-07-07 04:06:36+00:00     Chandlahpete   \n",
       "4 2022-07-07 04:06:33+00:00  Yogendr89778547   \n",
       "\n",
       "                                               Tweet  \n",
       "0  12ஆம் வகுப்பு தேர்வில் தோல்வியால் மாணவன் தற்கொ...  \n",
       "1  @Lesbian_cxnt Wait so it’s a suicide thing? (2...  \n",
       "2  @DiscussingFilm Hoping this is another The Sui...  \n",
       "3  31 shooting incidents in Ohio within the last ...  \n",
       "4  #KanganaRanaut claims #JavedAkhtar threatened ...  "
      ]
     },
     "execution_count": 4,
     "metadata": {},
     "output_type": "execute_result"
    }
   ],
   "source": [
    "#Head of the dataframe\n",
    "df.head()"
   ]
  },
  {
   "cell_type": "code",
   "execution_count": 5,
   "id": "d9675ced-934b-4503-bf35-1233534c44e6",
   "metadata": {},
   "outputs": [
    {
     "data": {
      "text/html": [
       "<div>\n",
       "<style scoped>\n",
       "    .dataframe tbody tr th:only-of-type {\n",
       "        vertical-align: middle;\n",
       "    }\n",
       "\n",
       "    .dataframe tbody tr th {\n",
       "        vertical-align: top;\n",
       "    }\n",
       "\n",
       "    .dataframe thead th {\n",
       "        text-align: right;\n",
       "    }\n",
       "</style>\n",
       "<table border=\"1\" class=\"dataframe\">\n",
       "  <thead>\n",
       "    <tr style=\"text-align: right;\">\n",
       "      <th></th>\n",
       "      <th>Date</th>\n",
       "      <th>User</th>\n",
       "      <th>Tweet</th>\n",
       "    </tr>\n",
       "  </thead>\n",
       "  <tbody>\n",
       "    <tr>\n",
       "      <th>3495</th>\n",
       "      <td>2022-07-06 22:50:34+00:00</td>\n",
       "      <td>RyanDaly597</td>\n",
       "      <td>Dude I wanna buy suicide boy tickets so bad bu...</td>\n",
       "    </tr>\n",
       "    <tr>\n",
       "      <th>3496</th>\n",
       "      <td>2022-07-06 22:50:26+00:00</td>\n",
       "      <td>5overthemoon</td>\n",
       "      <td>@KateOsborneMP @graylcoleman171 as has been fo...</td>\n",
       "    </tr>\n",
       "    <tr>\n",
       "      <th>3497</th>\n",
       "      <td>2022-07-06 22:50:22+00:00</td>\n",
       "      <td>donnienotokay</td>\n",
       "      <td>@wikihow_suicide both of them use sign. blind ...</td>\n",
       "    </tr>\n",
       "    <tr>\n",
       "      <th>3498</th>\n",
       "      <td>2022-07-06 22:50:22+00:00</td>\n",
       "      <td>NakedDemocrat</td>\n",
       "      <td>https://t.co/HFc8eUaPRj\\n\\nExactly right!  Dem...</td>\n",
       "    </tr>\n",
       "    <tr>\n",
       "      <th>3499</th>\n",
       "      <td>2022-07-06 22:50:17+00:00</td>\n",
       "      <td>CatferretVD</td>\n",
       "      <td>@James_Hawke1 Maybe instead of putting Maxwell...</td>\n",
       "    </tr>\n",
       "  </tbody>\n",
       "</table>\n",
       "</div>"
      ],
      "text/plain": [
       "                          Date           User  \\\n",
       "3495 2022-07-06 22:50:34+00:00    RyanDaly597   \n",
       "3496 2022-07-06 22:50:26+00:00   5overthemoon   \n",
       "3497 2022-07-06 22:50:22+00:00  donnienotokay   \n",
       "3498 2022-07-06 22:50:22+00:00  NakedDemocrat   \n",
       "3499 2022-07-06 22:50:17+00:00    CatferretVD   \n",
       "\n",
       "                                                  Tweet  \n",
       "3495  Dude I wanna buy suicide boy tickets so bad bu...  \n",
       "3496  @KateOsborneMP @graylcoleman171 as has been fo...  \n",
       "3497  @wikihow_suicide both of them use sign. blind ...  \n",
       "3498  https://t.co/HFc8eUaPRj\\n\\nExactly right!  Dem...  \n",
       "3499  @James_Hawke1 Maybe instead of putting Maxwell...  "
      ]
     },
     "execution_count": 5,
     "metadata": {},
     "output_type": "execute_result"
    }
   ],
   "source": [
    "#Tail of the dataframe\n",
    "df.tail()"
   ]
  },
  {
   "cell_type": "code",
   "execution_count": 6,
   "id": "96576576-6f82-40fa-a270-9704fecef6cc",
   "metadata": {},
   "outputs": [
    {
     "name": "stdout",
     "output_type": "stream",
     "text": [
      "                                                  Tweet\n",
      "0     12ஆம் வகுப்பு தேர்வில் தோல்வியால் மாணவன் தற்கொ...\n",
      "1     @Lesbian_cxnt Wait so it’s a suicide thing? (2...\n",
      "2     @DiscussingFilm Hoping this is another The Sui...\n",
      "3     31 shooting incidents in Ohio within the last ...\n",
      "4     #KanganaRanaut claims #JavedAkhtar threatened ...\n",
      "...                                                 ...\n",
      "3495  Dude I wanna buy suicide boy tickets so bad bu...\n",
      "3496  @KateOsborneMP @graylcoleman171 as has been fo...\n",
      "3497  @wikihow_suicide both of them use sign. blind ...\n",
      "3498  https://t.co/HFc8eUaPRj\\n\\nExactly right!  Dem...\n",
      "3499  @James_Hawke1 Maybe instead of putting Maxwell...\n",
      "\n",
      "[3500 rows x 1 columns]\n"
     ]
    }
   ],
   "source": [
    "#Removing the date and user columns in the dataframe\n",
    "df = df.drop(columns = ['Date','User'])\n",
    "print(df)"
   ]
  },
  {
   "cell_type": "code",
   "execution_count": 7,
   "id": "d3a93f9f-6cec-4cdf-a6e5-96d64478d401",
   "metadata": {},
   "outputs": [],
   "source": [
    "#Saving the dataframe to csv\n",
    "df.to_csv('tweets.csv', sep='\\t', encoding='utf-8')"
   ]
  }
 ],
 "metadata": {
  "kernelspec": {
   "display_name": "Python 3 (ipykernel)",
   "language": "python",
   "name": "python3"
  },
  "language_info": {
   "codemirror_mode": {
    "name": "ipython",
    "version": 3
   },
   "file_extension": ".py",
   "mimetype": "text/x-python",
   "name": "python",
   "nbconvert_exporter": "python",
   "pygments_lexer": "ipython3",
   "version": "3.9.12"
  }
 },
 "nbformat": 4,
 "nbformat_minor": 5
}
