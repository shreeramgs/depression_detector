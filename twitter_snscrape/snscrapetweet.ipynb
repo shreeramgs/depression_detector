{
  "nbformat": 4,
  "nbformat_minor": 0,
  "metadata": {
    "colab": {
      "name": "snscrapetweet.ipynb",
      "provenance": [],
      "collapsed_sections": []
    },
    "kernelspec": {
      "name": "python3",
      "display_name": "Python 3"
    },
    "language_info": {
      "name": "python"
    },
    "accelerator": "GPU",
    "gpuClass": "standard"
  },
  "cells": [
    {
      "cell_type": "code",
      "metadata": {
        "id": "xwHaRJpruXsz"
      },
      "source": [
        "!pip install -q snscrape==0.3.4"
      ],
      "execution_count": 1,
      "outputs": []
    },
    {
      "cell_type": "code",
      "metadata": {
        "id": "nD7B3adiubGG"
      },
      "source": [
        "import os\n",
        "import pandas as pd\n",
        "from datetime import date"
      ],
      "execution_count": 2,
      "outputs": []
    },
    {
      "cell_type": "code",
      "metadata": {
        "id": "uNhZNSNavwGQ"
      },
      "source": [
        "today = date.today()\n",
        "end_date = today"
      ],
      "execution_count": 3,
      "outputs": []
    },
    {
      "cell_type": "code",
      "metadata": {
        "id": "lUFINzS2yNem"
      },
      "source": [
        "search_terms_1 = ['tech','sports','entertainment','politics']\n",
        "search_term = 'depression'\n",
        "from_date = '2022-01-01'"
      ],
      "execution_count": 4,
      "outputs": []
    },
    {
      "cell_type": "markdown",
      "metadata": {
        "id": "dx9KjHTi4Fxj"
      },
      "source": [
        "# Total Number of Tweets for Search Terms"
      ]
    },
    {
      "cell_type": "code",
      "metadata": {
        "id": "GGUawFA0xTG3"
      },
      "source": [
        "max_results = 100"
      ],
      "execution_count": 5,
      "outputs": []
    },
    {
      "cell_type": "code",
      "metadata": {
        "id": "I0fFOKpLwBGF"
      },
      "source": [
        "def total_tweets(search_term):\n",
        "  os.system(f\"snscrape --since {from_date} twitter-search '{search_term} until:{end_date}' > result-tweets.txt\")\n",
        "  if os.stat(\"result-tweets.txt\").st_size == 0:\n",
        "    counter = 0\n",
        "  else:\n",
        "    df = pd.read_csv('result-tweets.txt', names=['link'])\n",
        "    counter = df.size\n",
        "\n",
        "  print('Number Of Tweets : '+ str(counter))"
      ],
      "execution_count": 7,
      "outputs": []
    },
    {
      "cell_type": "code",
      "source": [
        "total_tweets(search_term)"
      ],
      "metadata": {
        "colab": {
          "base_uri": "https://localhost:8080/"
        },
        "id": "wrun5loSPMZd",
        "outputId": "8329514f-8007-47db-9aca-73ca26170378"
      },
      "execution_count": 12,
      "outputs": [
        {
          "output_type": "stream",
          "name": "stdout",
          "text": [
            "Number Of Tweets : 2104\n"
          ]
        }
      ]
    },
    {
      "cell_type": "markdown",
      "source": [
        "**Dataset other tan depression**"
      ],
      "metadata": {
        "id": "s_xEQrgQOdq2"
      }
    },
    {
      "cell_type": "code",
      "source": [
        "for i in search_terms_1:\n",
        "  print(i)\n",
        "  total_tweets(i)"
      ],
      "metadata": {
        "colab": {
          "base_uri": "https://localhost:8080/"
        },
        "id": "B6y-dYhCOODz",
        "outputId": "91912cf7-45a3-49ed-f419-d5de6276e0c7"
      },
      "execution_count": 8,
      "outputs": [
        {
          "output_type": "stream",
          "name": "stdout",
          "text": [
            "tech\n",
            "Number Of Tweets : 3047\n",
            "sports\n",
            "Number Of Tweets : 2451\n",
            "entertainment\n",
            "Number Of Tweets : 3980\n",
            "politics\n",
            "Number Of Tweets : 5083\n"
          ]
        }
      ]
    },
    {
      "cell_type": "markdown",
      "metadata": {
        "id": "iFN4VxqK4KDU"
      },
      "source": [
        "# Extracting Exact Tweeets"
      ]
    },
    {
      "cell_type": "code",
      "metadata": {
        "id": "AWseHfDmwYCw"
      },
      "source": [
        "def tweet_extr(search_term):\n",
        "  extracted_tweets = \"snscrape --format '{content!r}'\"+ f\" --max-results {max_results} --since {from_date} twitter-search '{search_term} until:{end_date}' > extracted-tweets.txt\"\n",
        "  os.system(extracted_tweets)\n",
        "  if os.stat(\"extracted-tweets.txt\").st_size == 0:\n",
        "    print('Error tweet not found')\n",
        "  else:\n",
        "    extr_tweets_csv = pd.read_csv('extracted-tweets.txt', names=['content'])\n",
        "    for tweets in extr_tweets_csv['content'].iteritems():\n",
        "      print(tweets)\n",
        "      return extr_tweets_csv"
      ],
      "execution_count": 22,
      "outputs": []
    },
    {
      "cell_type": "code",
      "source": [
        "depression = tweet_extr(search_term)"
      ],
      "metadata": {
        "colab": {
          "base_uri": "https://localhost:8080/"
        },
        "id": "usCApTB5PAYK",
        "outputId": "a4d38949-00e5-43b9-b715-2976c52d1a9b"
      },
      "execution_count": 23,
      "outputs": [
        {
          "output_type": "stream",
          "name": "stdout",
          "text": [
            "(0, \"'Utter depression in us all to myselfa\\\\n؟?\\\\nنمشے\\\\n\\\\n🔹W77🔹\\\\n🔹W77🔹\\\\n🔹W77🔹'\")\n"
          ]
        }
      ]
    },
    {
      "cell_type": "code",
      "source": [
        "for i in search_terms_1:\n",
        "  l = tweet_extr(i)"
      ],
      "metadata": {
        "colab": {
          "base_uri": "https://localhost:8080/"
        },
        "id": "Qq82wZLoPRyr",
        "outputId": "e81dc909-0356-4a3c-cb69-182f4de2865a"
      },
      "execution_count": 24,
      "outputs": [
        {
          "output_type": "stream",
          "name": "stdout",
          "text": [
            "(0, \"'I hate I’m getting my hair done AFTER my lashes but the way my schedule set up with my lash tech and hair stylist \\\\U0001f979'\")\n",
            "(0, \"'@johnmaginnes @Guy2022Golf @DaveRealtor @LIVGolfInv Agree 1000%…..No other sport does what the @PGATOUR does for local communities they play in.'\")\n",
            "(0, \"We'll both bleed for entertainment, and everyone shall be watching\")\n",
            "((\"'Insightful read on far-right\", ' Christian politics'), ' goals.\\\\n\\\\nDo wish it had been earlier in story to note majority support separation of church/state &amp; that those wanting to end it are a \"fringe...minority among Christians &amp; Republicans.\" @elizabethjdias \\\\nhttps://t.co/VtAeGUIJ2f\\'')\n"
          ]
        }
      ]
    },
    {
      "cell_type": "markdown",
      "metadata": {
        "id": "MWWTBnwS4Ofr"
      },
      "source": [
        "# Extracting Tweets from Users"
      ]
    },
    {
      "cell_type": "code",
      "metadata": {
        "id": "uFBwPec2zSr6"
      },
      "source": [
        "#blueAlerts twitter account which provides aid with respect to mental health\n",
        "user_name = \"BlurtAlerts\"\n",
        "user_tweets = \"snscrape --format '{content!r}'\"+ f\" --max-results {max_results} --since {from_date} twitter-user '{user_name} until:{end_date}' > user-tweets.txt\"\n",
        "os.system(user_tweets)\n",
        "if os.stat(\"user-tweets.txt\").st_size == 0:\n",
        "  print('No Tweets found')\n",
        "else:\n",
        "  df = pd.read_csv('user-tweets.txt', names=['content'])\n",
        "  for row in df['content'].iteritems():\n",
        "    print(row)"
      ],
      "execution_count": null,
      "outputs": []
    },
    {
      "cell_type": "code",
      "metadata": {
        "id": "d8uHfSmwzhDG"
      },
      "source": [
        ""
      ],
      "execution_count": 15,
      "outputs": []
    }
  ]
}